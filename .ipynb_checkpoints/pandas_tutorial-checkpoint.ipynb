{
 "cells": [
  {
   "cell_type": "markdown",
   "metadata": {},
   "source": [
    "## This Jupyter Notebook is Brought to You by Doug Purcell\n",
    "- software engineer, corporate trainer, and 5X author in SF\n",
    "- My latest book is on Amazon, titled \"Code Cool Stuff With Python\"\n",
    "- [Book Available in e-book/paperback editions](https://www.amazon.com/Code-Cool-Stuff-Python-Purcell/dp/0997326271/ref=tmm_pap_swatch_0?_encoding=UTF8&qid=&sr=)\n",
    "![image info](book_cover.jpg)   "
   ]
  },
  {
   "cell_type": "markdown",
   "metadata": {},
   "source": [
    "### Data Manipulation In Python Using Pandas 🐼🐼🐼\n",
    "- Learn how to install the pandas library\n",
    "- Learn the core data structures and their differences \n",
    "- Learn how to source the web for data sets\n",
    "- Learn how to read data sets using pandas\n",
    "- Learn functions in pandas for getting quick stats \n",
    "- Learn how to access the rows/columns of a data set\n",
    "- Learn how to do graphs in pandas\n",
    "- Learn how to emulate the Excel pivot table in pandas "
   ]
  },
  {
   "cell_type": "markdown",
   "metadata": {},
   "source": [
    "### How to Install Pandas "
   ]
  },
  {
   "cell_type": "markdown",
   "metadata": {},
   "source": [
    "- pip install pandas\n",
    "- conda install pandas "
   ]
  },
  {
   "cell_type": "markdown",
   "metadata": {},
   "source": [
    "## The Two Primary Data Structures in Pandas\n",
    "- Series: A 1D array like structure with homogeneous data. \n",
    "- DataFrame: A 2D array with heterogeneous data "
   ]
  },
  {
   "cell_type": "markdown",
   "metadata": {},
   "source": [
    "# Series Data Structure \n",
    "-  s = pd.Series(data, index=index)\n",
    "- Data can be many different things\n",
    "  - A python dict\n",
    "  - A ndarray\n",
    "  - A list "
   ]
  },
  {
   "cell_type": "markdown",
   "metadata": {},
   "source": [
    "## Series Example # 1"
   ]
  },
  {
   "cell_type": "code",
   "execution_count": null,
   "metadata": {},
   "outputs": [],
   "source": [
    "import numpy as np\n",
    "import pandas as pd\n",
    "s = pd.Series(np.random.rand(5), index=['a', 'b', 'c', 'd', 'e'])\n",
    "s"
   ]
  },
  {
   "cell_type": "markdown",
   "metadata": {},
   "source": [
    "## Series Example # 2"
   ]
  },
  {
   "cell_type": "code",
   "execution_count": null,
   "metadata": {},
   "outputs": [],
   "source": [
    "pd.Series([1, 2, 3,], index=['a', 'b', 'c'])"
   ]
  },
  {
   "cell_type": "markdown",
   "metadata": {},
   "source": [
    "## Series Example # 3"
   ]
  },
  {
   "cell_type": "code",
   "execution_count": null,
   "metadata": {},
   "outputs": [],
   "source": [
    "fruits = {'a': 'apple', 'c': 'coconut', 'g': 'guava', 'p': 'pineapple'}\n",
    "series = pd.Series(fruits)\n",
    "series"
   ]
  },
  {
   "cell_type": "markdown",
   "metadata": {},
   "source": [
    "# Now It's Time to Get to The DataFrame"
   ]
  },
  {
   "cell_type": "code",
   "execution_count": null,
   "metadata": {},
   "outputs": [],
   "source": [
    "from IPython.display import Image\n",
    "Image(filename=\"giphy.gif\")"
   ]
  },
  {
   "cell_type": "markdown",
   "metadata": {},
   "source": [
    "## The Class Details for a DataFrame\n",
    "- class pandas.DataFrame(data=None, index: Optional[Collection] = None, columns: Optional[Collection] = None, dtype: Union[str, numpy.dtype, ExtensionDtype, None] = None, copy: bool = False\n",
    "- data can be ndarray, Iterable, dict, or DataFrame\n",
    "- Index is optional and will result to Rangeindex\n",
    "- columns: labels to use for resulting frame\n",
    "- dtype: A single data type\n",
    "- copy: copy data from inputs "
   ]
  },
  {
   "cell_type": "markdown",
   "metadata": {},
   "source": [
    "## DataFrame Example # 1"
   ]
  },
  {
   "cell_type": "code",
   "execution_count": null,
   "metadata": {},
   "outputs": [],
   "source": [
    "# building a dataframe from a dictionary\n",
    "df = pd.DataFrame({'evens': [2, 4, 6, 8], 'odds':[1, 3, 5, 7]})\n",
    "df"
   ]
  },
  {
   "cell_type": "markdown",
   "metadata": {},
   "source": [
    "## DataFrame Example Number #2"
   ]
  },
  {
   "cell_type": "code",
   "execution_count": null,
   "metadata": {},
   "outputs": [],
   "source": [
    "# Creating a dataframe from a numpy ndarray\n",
    "\n",
    "df2 = pd.DataFrame(np.array([[2, 4, 6], [8, 10, 12], [14, 16, 18]]),  columns=['a', 'b', 'c'], index=['X1', 'X2', 'X3'])\n",
    "df2"
   ]
  },
  {
   "cell_type": "markdown",
   "metadata": {},
   "source": [
    "## DataFrame Example # 3"
   ]
  },
  {
   "cell_type": "code",
   "execution_count": null,
   "metadata": {},
   "outputs": [],
   "source": [
    "# Randomly create a dataframe that's 10 x 4\n",
    "import pandas as pd\n",
    "matrix = pd.DataFrame(np.random.randint(1,100,size=(10, 4)), columns=list('ABCD'))\n"
   ]
  },
  {
   "cell_type": "code",
   "execution_count": null,
   "metadata": {},
   "outputs": [],
   "source": [
    "## Statistical Functions in Pandas\n",
    "\n"
   ]
  },
  {
   "cell_type": "code",
   "execution_count": null,
   "metadata": {},
   "outputs": [],
   "source": [
    "# descriptive stats: stats thats seeking to describe \n",
    "# describe: quick summary of various stats\n",
    "# get count, mean, std, min, percentiles, max, min of all columns \n",
    "matrix.describe()"
   ]
  },
  {
   "cell_type": "code",
   "execution_count": null,
   "metadata": {},
   "outputs": [],
   "source": [
    "# corr(): compute pairwise correlation of columns \n",
    "matrix.corr()"
   ]
  },
  {
   "cell_type": "code",
   "execution_count": null,
   "metadata": {},
   "outputs": [],
   "source": [
    "# returns max from each column in the entire DataFrame \n",
    "matrix.max()"
   ]
  },
  {
   "cell_type": "code",
   "execution_count": null,
   "metadata": {},
   "outputs": [],
   "source": [
    "# returns min from each column in the entire DataFrame\n",
    "matrix.min()"
   ]
  },
  {
   "cell_type": "code",
   "execution_count": null,
   "metadata": {},
   "outputs": [],
   "source": [
    "# gets the median from each column\n",
    "matrix.median()"
   ]
  },
  {
   "cell_type": "code",
   "execution_count": null,
   "metadata": {},
   "outputs": [],
   "source": [
    "# gets the mode of each axis\n",
    "matrix.mode()"
   ]
  },
  {
   "cell_type": "markdown",
   "metadata": {},
   "source": [
    "## How to Index and Select data from a DataFrame\n",
    "There's various ways in which you can access data in a DataFrame.\n",
    "Let's learn the various ways in which we can access the rows/columns of a table\n"
   ]
  },
  {
   "cell_type": "code",
   "execution_count": null,
   "metadata": {},
   "outputs": [],
   "source": [
    "# access the columns of a DataFrame\n",
    "matrix.columns\n"
   ]
  },
  {
   "cell_type": "code",
   "execution_count": null,
   "metadata": {},
   "outputs": [],
   "source": [
    "# use subscript notation to access the data from each row\n",
    "matrix['A']"
   ]
  },
  {
   "cell_type": "code",
   "execution_count": null,
   "metadata": {},
   "outputs": [],
   "source": [
    "# combine that with some of the statistical functions we learned\n",
    "matrix['A'].max()"
   ]
  },
  {
   "cell_type": "code",
   "execution_count": null,
   "metadata": {},
   "outputs": [],
   "source": [
    "# sum all of the values of A\n",
    "matrix['A'].sum()"
   ]
  },
  {
   "cell_type": "code",
   "execution_count": null,
   "metadata": {},
   "outputs": [],
   "source": [
    "# get the number of count of items in A\n",
    "matrix['A'].count()"
   ]
  },
  {
   "cell_type": "code",
   "execution_count": null,
   "metadata": {},
   "outputs": [],
   "source": [
    "# combining multiple columns together\n",
    "# yes, you will need to use double square brackets \n",
    "matrix[['A', 'B']]"
   ]
  },
  {
   "cell_type": "code",
   "execution_count": null,
   "metadata": {},
   "outputs": [],
   "source": [
    "# you can perform mathematical applications on \n",
    "# columns just like you would on number types \n",
    "# Example, can add, subtract, divide, or multiply columns \n",
    "\n",
    "\n",
    "matrix['A'] - matrix['B']"
   ]
  },
  {
   "cell_type": "code",
   "execution_count": null,
   "metadata": {},
   "outputs": [],
   "source": [
    "# multiply two columns \n",
    "matrix['C'] * matrix['D']"
   ]
  },
  {
   "cell_type": "code",
   "execution_count": null,
   "metadata": {},
   "outputs": [],
   "source": [
    "# divide two columns\n",
    "matrix['A'] / matrix['B']"
   ]
  },
  {
   "cell_type": "code",
   "execution_count": null,
   "metadata": {},
   "outputs": [],
   "source": [
    "# accesisng the rows\n",
    "# use iloc function\n",
    "\n",
    "matrix.iloc[0:5] # gets first 5 items in a row\n"
   ]
  },
  {
   "cell_type": "code",
   "execution_count": null,
   "metadata": {},
   "outputs": [],
   "source": [
    "# access every two items in a row\n",
    "matrix.iloc[::2]"
   ]
  },
  {
   "cell_type": "code",
   "execution_count": null,
   "metadata": {},
   "outputs": [],
   "source": [
    "# reverse the rows in the dataframe\n",
    "matrix[::-1]"
   ]
  },
  {
   "cell_type": "code",
   "execution_count": null,
   "metadata": {},
   "outputs": [],
   "source": [
    "# iterating through the dataframe\n",
    "\n",
    "for index, row in matrix.iterrows():\n",
    "    print('row {} ---> {}'.format(index, row['A']))"
   ]
  },
  {
   "cell_type": "markdown",
   "metadata": {},
   "source": [
    "## Creating charts in Pandas\n",
    "\n",
    "You can use pandas to various plot styles \n",
    "\n",
    "- line \n",
    "- bar\n",
    "- hist\n",
    "- box\n",
    "- kde, or density plots\n",
    "- area\n",
    "- scatter\n",
    "- hexbin\n",
    "- pie"
   ]
  },
  {
   "cell_type": "code",
   "execution_count": null,
   "metadata": {},
   "outputs": [],
   "source": [
    "# creating charts from pandas\n",
    "matrix.plot()"
   ]
  },
  {
   "cell_type": "code",
   "execution_count": null,
   "metadata": {},
   "outputs": [],
   "source": [
    "matrix.plot(kind='bar')"
   ]
  },
  {
   "cell_type": "code",
   "execution_count": null,
   "metadata": {},
   "outputs": [],
   "source": [
    "matrix.plot(kind='hist')"
   ]
  },
  {
   "cell_type": "code",
   "execution_count": null,
   "metadata": {},
   "outputs": [],
   "source": [
    "matrix.plot(kind='box')"
   ]
  },
  {
   "cell_type": "code",
   "execution_count": null,
   "metadata": {},
   "outputs": [],
   "source": [
    "matrix.plot(kind='kde')"
   ]
  },
  {
   "cell_type": "code",
   "execution_count": null,
   "metadata": {},
   "outputs": [],
   "source": [
    "matrix.plot(kind='area')"
   ]
  },
  {
   "cell_type": "code",
   "execution_count": null,
   "metadata": {},
   "outputs": [],
   "source": [
    "matrix.plot(kind='pie', subplots=True)"
   ]
  },
  {
   "cell_type": "code",
   "execution_count": null,
   "metadata": {},
   "outputs": [],
   "source": [
    "# Pivote Tables\n",
    "# --------------\n",
    "# pandas can emulate piviot tables\n",
    "# For example let's take a look at the A column\n",
    "# Perhaps we can pivot A so that the tall table is now wise\n",
    "# can pass is values='A' to zoom in on a certain value\n",
    "\n",
    "pd.pivot_table(matrix, columns='A')"
   ]
  },
  {
   "cell_type": "code",
   "execution_count": null,
   "metadata": {},
   "outputs": [],
   "source": [
    "matrix"
   ]
  },
  {
   "cell_type": "markdown",
   "metadata": {},
   "source": [
    "## Can Read in Large Datasets With Pandas!\n",
    "\n",
    "There's a lot of open datasets available. Here are some resources:\n",
    "- Kaggle: [https://www.kaggle.com/datasets](https://www.kaggle.com/datasets)\n",
    "- Azure: [https://azure.microsoft.com/en-us/services/open-datasets](https://azure.microsoft.com/en-us/services/open-datasets/)\n",
    "-  Data gov: [https://www.data.gov]\n",
    "- (https://www.data.gov/)\n",
    "- Awesome public datasets: [https://github.com/awesomedata/awesome-public-datasets](https://github.com/awesomedata/awesome"
   ]
  },
  {
   "cell_type": "code",
   "execution_count": 6,
   "metadata": {},
   "outputs": [
    {
     "ename": "NameError",
     "evalue": "name 'pd' is not defined",
     "output_type": "error",
     "traceback": [
      "\u001b[1;31m---------------------------------------------------------------------------\u001b[0m",
      "\u001b[1;31mNameError\u001b[0m                                 Traceback (most recent call last)",
      "\u001b[1;32m<ipython-input-6-434bca1f7ea3>\u001b[0m in \u001b[0;36m<module>\u001b[1;34m\u001b[0m\n\u001b[0;32m      1\u001b[0m \u001b[1;31m# downloaded hospital bed capacity dataset\u001b[0m\u001b[1;33m\u001b[0m\u001b[1;33m\u001b[0m\u001b[1;33m\u001b[0m\u001b[0m\n\u001b[0;32m      2\u001b[0m \u001b[1;31m# url: https://www.kaggle.com/mrmorj/hospital-bed-capacity-and-covid19\u001b[0m\u001b[1;33m\u001b[0m\u001b[1;33m\u001b[0m\u001b[1;33m\u001b[0m\u001b[0m\n\u001b[1;32m----> 3\u001b[1;33m \u001b[0mread\u001b[0m \u001b[1;33m=\u001b[0m \u001b[0mpd\u001b[0m\u001b[1;33m.\u001b[0m\u001b[0mread_csv\u001b[0m\u001b[1;33m(\u001b[0m\u001b[1;34m\"data/hrr.csv\"\u001b[0m\u001b[1;33m)\u001b[0m\u001b[1;33m\u001b[0m\u001b[1;33m\u001b[0m\u001b[0m\n\u001b[0m\u001b[0;32m      4\u001b[0m \u001b[0mread\u001b[0m\u001b[1;33m\u001b[0m\u001b[1;33m\u001b[0m\u001b[0m\n",
      "\u001b[1;31mNameError\u001b[0m: name 'pd' is not defined"
     ]
    }
   ],
   "source": [
    "# downloaded hospital bed capacity dataset\n",
    "# url: https://www.kaggle.com/mrmorj/hospital-bed-capacity-and-covid19\n",
    "read = pd.read_csv(\"data/hrr.csv\")\n",
    "read"
   ]
  },
  {
   "cell_type": "code",
   "execution_count": null,
   "metadata": {},
   "outputs": [],
   "source": [
    "read.head()"
   ]
  },
  {
   "cell_type": "code",
   "execution_count": null,
   "metadata": {},
   "outputs": [],
   "source": [
    "read.head(10)"
   ]
  },
  {
   "cell_type": "code",
   "execution_count": null,
   "metadata": {},
   "outputs": [],
   "source": [
    "read.tail()"
   ]
  },
  {
   "cell_type": "code",
   "execution_count": null,
   "metadata": {},
   "outputs": [],
   "source": [
    "read.tail(5)"
   ]
  },
  {
   "cell_type": "markdown",
   "metadata": {},
   "source": [
    "## This is Not Even Scratching The Surface of Pandas!\n",
    "\n",
    "Checkout the official resource of pandas: https://pandas.pydata.org/docs "
   ]
  },
  {
   "cell_type": "code",
   "execution_count": null,
   "metadata": {},
   "outputs": [],
   "source": [
    "read.info()"
   ]
  },
  {
   "cell_type": "code",
   "execution_count": null,
   "metadata": {},
   "outputs": [],
   "source": [
    "read.describe()"
   ]
  },
  {
   "cell_type": "code",
   "execution_count": null,
   "metadata": {},
   "outputs": [],
   "source": [
    "read.plot()"
   ]
  },
  {
   "cell_type": "markdown",
   "metadata": {},
   "source": [
    "## Thanks for Being a Lovely Audience!\n",
    "\n",
    "![dancing parrot](dancing_parrot.gif)\n"
   ]
  }
 ],
 "metadata": {
  "kernelspec": {
   "display_name": "Python 3",
   "language": "python",
   "name": "python3"
  },
  "language_info": {
   "codemirror_mode": {
    "name": "ipython",
    "version": 3
   },
   "file_extension": ".py",
   "mimetype": "text/x-python",
   "name": "python",
   "nbconvert_exporter": "python",
   "pygments_lexer": "ipython3",
   "version": "3.7.3"
  }
 },
 "nbformat": 4,
 "nbformat_minor": 4
}
